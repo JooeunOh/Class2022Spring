{
  "nbformat": 4,
  "nbformat_minor": 0,
  "metadata": {
    "colab": {
      "name": "2022-영어음성학응용.ipynb",
      "provenance": [],
      "collapsed_sections": []
    },
    "kernelspec": {
      "name": "python3",
      "display_name": "Python 3"
    },
    "language_info": {
      "name": "python"
    }
  },
  "cells": [
    {
      "cell_type": "markdown",
      "source": [
        "#3월 9일\n",
        "#variables.ipynb"
      ],
      "metadata": {
        "id": "0J4y0NUz9SmL"
      }
    },
    {
      "cell_type": "code",
      "execution_count": null,
      "metadata": {
        "id": "p5DqXRANvgUY",
        "colab": {
          "base_uri": "https://localhost:8080/"
        },
        "outputId": "f9c9fb1d-649f-4260-bbdd-9ff2c5e7658f"
      },
      "outputs": [
        {
          "output_type": "stream",
          "name": "stdout",
          "text": [
            "<class 'int'>\n",
            "1\n"
          ]
        }
      ],
      "source": [
        "a=1\n",
        "print(type(a))\n",
        "print(a)"
      ]
    }
  ]
}