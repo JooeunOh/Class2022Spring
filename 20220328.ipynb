{
  "nbformat": 4,
  "nbformat_minor": 0,
  "metadata": {
    "colab": {
      "name": "20220328.ipynb",
      "provenance": [],
      "collapsed_sections": [],
      "authorship_tag": "ABX9TyO72zgmiyFyNq3bVATqzVjV",
      "include_colab_link": true
    },
    "kernelspec": {
      "name": "python3",
      "display_name": "Python 3"
    },
    "language_info": {
      "name": "python"
    }
  },
  "cells": [
    {
      "cell_type": "markdown",
      "metadata": {
        "id": "view-in-github",
        "colab_type": "text"
      },
      "source": [
        "<a href=\"https://colab.research.google.com/github/JooeunOh/Class2022Spring/blob/main/20220328.ipynb\" target=\"_parent\"><img src=\"https://colab.research.google.com/assets/colab-badge.svg\" alt=\"Open In Colab\"/></a>"
      ]
    },
    {
      "cell_type": "markdown",
      "source": [
        "#한국토지주택공사_임대주택단지 조회 서비스\n",
        "광역시도 코드, 공고유형 코드를 이용하여 임대주택 단지의 지역명, 공급유형, 단지명, 전용면적, 세대수, 임대보증금, 월일대료 정보 조회 기능"
      ],
      "metadata": {
        "id": "9jVsK4jGWvWy"
      }
    },
    {
      "cell_type": "code",
      "execution_count": null,
      "metadata": {
        "id": "qKooGeM4g5uk"
      },
      "outputs": [],
      "source": [
        "!pip install gradio\n",
        "import gradio as gr\n",
        "import requests\n",
        "import pandas as pd"
      ]
    },
    {
      "cell_type": "code",
      "source": [
        "def test(sidocode):\n",
        "  if sidocode=='서울':\n",
        "    sidocode=11\n",
        "  if sidocode=='부산':\n",
        "    sidocode=26\n",
        "  if sidocode=='대구':\n",
        "    sidocode=27\n",
        "  if sidocode=='인천':\n",
        "    sidocode=28\n",
        "  if sidocode=='광주':\n",
        "    sidocode=29\n",
        "  if sidocode=='대전':\n",
        "    sidocode=30\n",
        "  if sidocode=='울산':\n",
        "    sidocode=31\n",
        "  if sidocode=='세종':\n",
        "    sidocode=36110\n",
        "  if sidocode=='경기':\n",
        "    sidocode=41\n",
        "  if sidocode=='강원':\n",
        "    sidocode=42\n",
        "  if sidocode=='충북':\n",
        "    sidocode=43\n",
        "  if sidocode=='충남':\n",
        "    sidocode=44\n",
        "  if sidocode=='전북':\n",
        "    sidocode=45\n",
        "  if sidocode=='전남':\n",
        "    sidocode=46\n",
        "  if sidocode=='경북':\n",
        "    sidocode=47\n",
        "  if sidocode=='경남':\n",
        "    sidocode=48\n",
        "  if sidocode=='제주':\n",
        "    sidocode=50\n",
        "\n",
        "  sidocode=str(sidocode)\n",
        "  URL=('http://apis.data.go.kr/B552555/lhLeaseInfo1/'\n",
        "    'lhLeaseInfo1?'\n",
        "    'serviceKey=e17fGNXjxZ6QpNvKWHQ8yp0MvisGHNutPiF0a4%2Bh%2BPnVfFKAvBdcjUrsJ3sOjlilsn7TXoyvVbgFcFT8G3XGbw%3D%3D'\n",
        "    '&PG_SZ=9999'\n",
        "    '&CNP_CD='+sidocode+\n",
        "    '&PAGE=1'\n",
        "    )\n",
        "  response=requests.get(URL)\n",
        "  r=response.json()\n",
        "  items=r[1]['dsList']\n",
        "  cityName=[item['ARA_NM'] for item in items] #지역명\n",
        "  supplyType=[item['AIS_TP_CD_NM'] for item in items] #공급유형명\n",
        "  complexName=[item['SBD_LGO_NM'] for item in items] #단지명\n",
        "  area=[item['DDO_AR'] for item in items] #전용면적\n",
        "  households=[item['HSH_CNT'] for item in items] #세대수\n",
        "  rentDeposit=[item['LS_GMY'] for item in items] #임대보증금\n",
        "  rentFee=[item['RFE'] for item in items] #월임대료\n",
        "\n",
        "  cityName=pd.Series(cityName) \n",
        "  supplyType=pd.Series(supplyType)\n",
        "  complexName=pd.Series(complexName)\n",
        "  area=pd.Series(area)\n",
        "  households=pd.Series(households)\n",
        "  rentDeposit=pd.Series(rentDeposit)\n",
        "  rentFee=pd.Series(rentFee)\n",
        "\n",
        "  df=pd.DataFrame({'cityName': cityName, 'supplyType':supplyType, 'complexName': complexName, 'area': area, 'households': households, 'rentDeposit': rentDeposit, 'rentFee': rentFee})\n",
        "  return df"
      ],
      "metadata": {
        "id": "w6UsxMTNt_ln"
      },
      "execution_count": 146,
      "outputs": []
    },
    {
      "cell_type": "code",
      "source": [
        "iface=gr.Interface(test, gr.inputs.Dropdown(['서울', '부산', '대구', '인천', '광주', '대전', '울산', '세종', '경기', '강원', '충북', '충남', '전북', '전남', '경북', '경남', '제주']), outputs=['dataframe'])\n",
        "iface.launch(debug=True)"
      ],
      "metadata": {
        "id": "3zvE5dXZqYvG"
      },
      "execution_count": null,
      "outputs": []
    }
  ]
}