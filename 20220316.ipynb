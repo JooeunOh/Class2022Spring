{
  "nbformat": 4,
  "nbformat_minor": 0,
  "metadata": {
    "colab": {
      "name": "20220316.ipynb",
      "provenance": [],
      "collapsed_sections": [],
      "authorship_tag": "ABX9TyMlAC3W2f4E7AL5EX1qhLyq",
      "include_colab_link": true
    },
    "kernelspec": {
      "name": "python3",
      "display_name": "Python 3"
    },
    "language_info": {
      "name": "python"
    }
  },
  "cells": [
    {
      "cell_type": "markdown",
      "metadata": {
        "id": "view-in-github",
        "colab_type": "text"
      },
      "source": [
        "<a href=\"https://colab.research.google.com/github/JooeunOh/Class2022Spring/blob/main/20220316.ipynb\" target=\"_parent\"><img src=\"https://colab.research.google.com/assets/colab-badge.svg\" alt=\"Open In Colab\"/></a>"
      ]
    },
    {
      "cell_type": "markdown",
      "source": [
        "#3월 9일\n",
        "#variables.ipynb"
      ],
      "metadata": {
        "id": "0J4y0NUz9SmL"
      }
    },
    {
      "cell_type": "code",
      "execution_count": null,
      "metadata": {
        "id": "p5DqXRANvgUY",
        "colab": {
          "base_uri": "https://localhost:8080/"
        },
        "outputId": "f9c9fb1d-649f-4260-bbdd-9ff2c5e7658f"
      },
      "outputs": [
        {
          "output_type": "stream",
          "name": "stdout",
          "text": [
            "<class 'int'>\n",
            "1\n"
          ]
        }
      ],
      "source": [
        "a=1\n",
        "print(type(a))\n",
        "print(a)"
      ]
    },
    {
      "cell_type": "code",
      "source": [
        "b=1.0\n",
        "print(type(b))\n",
        "print(b)"
      ],
      "metadata": {
        "id": "_owdID8WA4ye"
      },
      "execution_count": null,
      "outputs": []
    },
    {
      "cell_type": "code",
      "source": [
        "c='123'\n",
        "print(type(c))\n",
        "print(c[1])"
      ],
      "metadata": {
        "colab": {
          "base_uri": "https://localhost:8080/"
        },
        "id": "7tHYaa0uA9k9",
        "outputId": "e2037c55-9d4f-40a4-8b4d-b7bb2b5b0bb6"
      },
      "execution_count": null,
      "outputs": [
        {
          "output_type": "stream",
          "name": "stdout",
          "text": [
            "<class 'str'>\n",
            "2\n"
          ]
        }
      ]
    },
    {
      "cell_type": "code",
      "source": [
        "d='hello'\n",
        "print(type(d))\n",
        "print(d[3])"
      ],
      "metadata": {
        "colab": {
          "base_uri": "https://localhost:8080/"
        },
        "id": "PYr30KrqBJCl",
        "outputId": "31959260-df22-4526-890f-a8ba00f9ed5e"
      },
      "execution_count": null,
      "outputs": [
        {
          "output_type": "stream",
          "name": "stdout",
          "text": [
            "<class 'str'>\n",
            "l\n"
          ]
        }
      ]
    },
    {
      "cell_type": "code",
      "source": [
        "e=[1, 2, 3, 4]\n",
        "print(type(e))\n",
        "print(e[0])"
      ],
      "metadata": {
        "colab": {
          "base_uri": "https://localhost:8080/"
        },
        "id": "yJw56Dw2BSPZ",
        "outputId": "20c0ad7e-f2ff-485f-dd03-e61dfdc9f106"
      },
      "execution_count": null,
      "outputs": [
        {
          "output_type": "stream",
          "name": "stdout",
          "text": [
            "<class 'list'>\n",
            "1\n"
          ]
        }
      ]
    },
    {
      "cell_type": "code",
      "source": [
        "#리스트 속 리스트\n",
        "f=[1, 'a', [3, '4']]\n",
        "print(f[2])\n",
        "print(f[2][1])\n",
        "print(f[:]) #전체 출력\n",
        "f #마지막 줄이라면 print()없이도 출력 #f만 써도 전체 출력"
      ],
      "metadata": {
        "id": "ZQ-k0fp_Bcac"
      },
      "execution_count": null,
      "outputs": []
    },
    {
      "cell_type": "code",
      "source": [
        "g=[1, 2, 3, 4, 5, 6, 7, 8, 9, 10]\n",
        "g[:-1] #제일 끝의 값 빼고 전부 출력"
      ],
      "metadata": {
        "id": "079bmTqsBv2g",
        "colab": {
          "base_uri": "https://localhost:8080/"
        },
        "outputId": "baa960f0-4d11-45c2-8f7a-980b5b63a084"
      },
      "execution_count": 7,
      "outputs": [
        {
          "output_type": "execute_result",
          "data": {
            "text/plain": [
              "[1, 2, 3, 4, 5, 6, 7, 8, 9]"
            ]
          },
          "metadata": {},
          "execution_count": 7
        }
      ]
    },
    {
      "cell_type": "code",
      "source": [
        "h='abcdef1232'\n",
        "print(type(h))\n",
        "print(h[:2])\n",
        "print(h[3:-1])"
      ],
      "metadata": {
        "colab": {
          "base_uri": "https://localhost:8080/"
        },
        "id": "uNnQRZvbCRBf",
        "outputId": "0d409660-e57c-4297-c568-f7cbc728eb7d"
      },
      "execution_count": 6,
      "outputs": [
        {
          "output_type": "stream",
          "name": "stdout",
          "text": [
            "<class 'str'>\n",
            "ab\n",
            "def123\n"
          ]
        }
      ]
    },
    {
      "cell_type": "code",
      "source": [
        "#tuple\n",
        "j=(1, 2, 3)\n",
        "print(j[3])\n",
        "#j(3)=1 ->오류남/assing된 값을 바꾸는 것은 안된다. 그 외에는 list와 같음"
      ],
      "metadata": {
        "id": "anpIkIyiC7gS"
      },
      "execution_count": null,
      "outputs": []
    },
    {
      "cell_type": "code",
      "source": [
        "k={123:\"apple\", \"b\":\"orange\", \"c\":2014}\n",
        "print(k[123])\n",
        "k[\"b\"]\n",
        "#k[0] ->오류남/ 순서지정 x"
      ],
      "metadata": {
        "colab": {
          "base_uri": "https://localhost:8080/",
          "height": 53
        },
        "id": "ioKXMOjXDlpP",
        "outputId": "60547210-bcdf-46b8-aa36-26a7d220a958"
      },
      "execution_count": 8,
      "outputs": [
        {
          "output_type": "stream",
          "name": "stdout",
          "text": [
            "apple\n"
          ]
        },
        {
          "output_type": "execute_result",
          "data": {
            "text/plain": [
              "'orange'"
            ],
            "application/vnd.google.colaboratory.intrinsic+json": {
              "type": "string"
            }
          },
          "metadata": {},
          "execution_count": 8
        }
      ]
    },
    {
      "cell_type": "markdown",
      "source": [
        "#3월 14일\n",
        "#string.ipynb"
      ],
      "metadata": {
        "id": "Ko7RmSmJEBib"
      }
    },
    {
      "cell_type": "code",
      "source": [
        "s='abcdef'\n",
        "print(s[0], s[-1], s[-6])\n",
        "print(s[1:])\n",
        "print(len(s)) #len은 길이를 알려주는 함수\n",
        "s[1]+s[3]+s[4:]*10 #string도 +사용할 수 있다\n",
        "print(s.upper()) #대문자 변환 함수(upper()함수같은 경우 built=in 함수임)\n",
        "s #print없이 변수 이름 없이도, 마지막 줄에 있는 경우 print됨"
      ],
      "metadata": {
        "colab": {
          "base_uri": "https://localhost:8080/",
          "height": 107
        },
        "id": "6KXXQr1JD53A",
        "outputId": "d1ebf824-9aae-4e7c-92b3-84f8c180afe3"
      },
      "execution_count": 16,
      "outputs": [
        {
          "output_type": "stream",
          "name": "stdout",
          "text": [
            "a f a\n",
            "bcdef\n",
            "6\n",
            "ABCDEF\n"
          ]
        },
        {
          "output_type": "execute_result",
          "data": {
            "text/plain": [
              "'abcdef'"
            ],
            "application/vnd.google.colaboratory.intrinsic+json": {
              "type": "string"
            }
          },
          "metadata": {},
          "execution_count": 16
        }
      ]
    },
    {
      "cell_type": "code",
      "source": [
        "#string과 list는 유사성을 지님-인덱스 사용\n",
        "n=[100, 200, 300]\n",
        "print(n[0])\n",
        "print(n[-1])\n",
        "n[:2]"
      ],
      "metadata": {
        "colab": {
          "base_uri": "https://localhost:8080/"
        },
        "id": "UEpkPIIlKdkI",
        "outputId": "b81b8a06-bcc6-4e70-820a-98846e22e1c3"
      },
      "execution_count": 10,
      "outputs": [
        {
          "output_type": "stream",
          "name": "stdout",
          "text": [
            "100\n",
            "300\n"
          ]
        },
        {
          "output_type": "execute_result",
          "data": {
            "text/plain": [
              "[100, 200]"
            ]
          },
          "metadata": {},
          "execution_count": 10
        }
      ]
    },
    {
      "cell_type": "code",
      "source": [
        "#함수 사용\n",
        "s='this is a house built this year.'\n",
        "result=s.find('house') #s에서 house를 찾고 처음 등장하는 인덱스 번호를 result에 저장\n",
        "print(result)"
      ],
      "metadata": {
        "colab": {
          "base_uri": "https://localhost:8080/"
        },
        "id": "1u9rltX7Kde0",
        "outputId": "e4014044-035a-4b6f-9c55-d3f901b44618"
      },
      "execution_count": 24,
      "outputs": [
        {
          "output_type": "stream",
          "name": "stdout",
          "text": [
            "10\n"
          ]
        }
      ]
    },
    {
      "cell_type": "code",
      "source": [
        "#함수 사용\n",
        "s=s.strip() #a copy of s without leading or trailing whitespace\n",
        "print(s)\n",
        "\n",
        "s='this is a house built this year.'\n",
        "tokens=s.split(' ') #spilt s into a list wherever a t is found(whitespace by default)\n",
        "print(tokens)\n",
        "\n",
        "s=' '.join(tokens) #combine the words of the text into a string using s as the glue\n",
        "print(s)\n",
        "\n",
        "s=s.replace('this', 'that') #앞에 있는 것을 뒤의 것으로 바꿔준다\n",
        "print(s)"
      ],
      "metadata": {
        "colab": {
          "base_uri": "https://localhost:8080/"
        },
        "id": "zwI8pvdSMcSq",
        "outputId": "9d20a0dd-03c2-4bee-c0b2-80dacd85f0a7"
      },
      "execution_count": 31,
      "outputs": [
        {
          "output_type": "stream",
          "name": "stdout",
          "text": [
            "this is a house built this year.\n",
            "['this', 'is', 'a', 'house', 'built', 'this', 'year.']\n",
            "this is a house built this year.\n",
            "that is a house built that year.\n"
          ]
        }
      ]
    },
    {
      "cell_type": "markdown",
      "source": [
        "#function.ipynb"
      ],
      "metadata": {
        "id": "ksKs1-dTN_NR"
      }
    },
    {
      "cell_type": "code",
      "source": [
        "#함수 정의 방법\n",
        "def add(a, b):\n",
        "  return a+b\n",
        "\n",
        "def sub(a, b):\n",
        "  c=a-b\n",
        "  return c\n",
        "\n",
        "def mul(a, b):\n",
        "  return a*b\n",
        "\n",
        "def div(a, b):\n",
        "  c=a/b\n",
        "  return c\n",
        "\n",
        "#**질문**\n",
        "#내장 함수와 사용자 정의 함수의 이름이 같을 때->사용자 정의 함수가 더 효력 있음/지양할 것\n",
        "\n",
        "print(add(3, 4))\n",
        "print(sub(7, 2))\n",
        "print(mul(4, 6))\n",
        "print(div(9, 4))"
      ],
      "metadata": {
        "colab": {
          "base_uri": "https://localhost:8080/"
        },
        "id": "B-oPZmYFMuzo",
        "outputId": "2058db82-c132-4f55-a4e7-a3fb6fc7701e"
      },
      "execution_count": 35,
      "outputs": [
        {
          "output_type": "stream",
          "name": "stdout",
          "text": [
            "7\n",
            "5\n",
            "24\n",
            "2.25\n"
          ]
        }
      ]
    },
    {
      "cell_type": "markdown",
      "source": [
        "#syntax.ipynb\n",
        "#대표적인 것: 반복문, 조건문"
      ],
      "metadata": {
        "id": "n38ljhsAPkdN"
      }
    },
    {
      "cell_type": "code",
      "source": [
        "#for문\n",
        "\n",
        "a=[1, 2, 3, 4]\n",
        "for i in a: #for와 i는 띄어쓰기\n",
        "  print(i) #인덴트 있어야 함-하위 명령"
      ],
      "metadata": {
        "colab": {
          "base_uri": "https://localhost:8080/"
        },
        "id": "6oX3S8Z2Ot_z",
        "outputId": "37e1ab21-890a-4ca2-e8e4-c3b7508bf2ee"
      },
      "execution_count": 36,
      "outputs": [
        {
          "output_type": "stream",
          "name": "stdout",
          "text": [
            "1\n",
            "2\n",
            "3\n",
            "4\n"
          ]
        }
      ]
    },
    {
      "cell_type": "code",
      "source": [
        "for i in range(len(a)): #len(a)만큼의 인덱스가 만들어진다고 보면 됨\n",
        "  print(a[i]) "
      ],
      "metadata": {
        "colab": {
          "base_uri": "https://localhost:8080/"
        },
        "id": "UxbGJpR0P-s8",
        "outputId": "73a4f53e-056b-4570-a5bd-eb91e4296357"
      },
      "execution_count": 37,
      "outputs": [
        {
          "output_type": "stream",
          "name": "stdout",
          "text": [
            "1\n",
            "2\n",
            "3\n",
            "4\n"
          ]
        }
      ]
    },
    {
      "cell_type": "code",
      "source": [
        "a=['red', 'green', 'blue', 'purple']\n",
        "for i in a:\n",
        "  print(i)\n",
        "\n",
        "print()\n",
        "\n",
        "for i in range(len(a)):\n",
        "  print(a[i])"
      ],
      "metadata": {
        "colab": {
          "base_uri": "https://localhost:8080/"
        },
        "id": "RGRSnsDwQQ_T",
        "outputId": "78eb9ed6-c1bd-48ba-d274-44874373e832"
      },
      "execution_count": 44,
      "outputs": [
        {
          "output_type": "stream",
          "name": "stdout",
          "text": [
            "red\n",
            "green\n",
            "blue\n",
            "purple\n",
            "\n",
            "red\n",
            "green\n",
            "blue\n",
            "purple\n"
          ]
        }
      ]
    },
    {
      "cell_type": "code",
      "source": [
        "#if문\n",
        "\n",
        "a=0\n",
        "if a==0:\n",
        "  print(a) #인덴트 있어야 함-하위 명령"
      ],
      "metadata": {
        "colab": {
          "base_uri": "https://localhost:8080/"
        },
        "id": "D6qMdnFWQ857",
        "outputId": "e58054d4-3f64-4024-a311-efd469505f57"
      },
      "execution_count": 45,
      "outputs": [
        {
          "output_type": "stream",
          "name": "stdout",
          "text": [
            "0\n"
          ]
        }
      ]
    },
    {
      "cell_type": "code",
      "source": [
        "a=0\n",
        "if a!=0:\n",
        "  print(a)\n",
        "else:\n",
        "  print(a+1)"
      ],
      "metadata": {
        "colab": {
          "base_uri": "https://localhost:8080/"
        },
        "id": "smtPsvcvRKIR",
        "outputId": "f522bcfc-20d4-40e3-9609-a01ba47657d0"
      },
      "execution_count": 46,
      "outputs": [
        {
          "output_type": "stream",
          "name": "stdout",
          "text": [
            "1\n"
          ]
        }
      ]
    },
    {
      "cell_type": "code",
      "source": [
        "#for 중첩도 가능\n",
        "\n",
        "for i in range(1, 3): #[1, 2]\n",
        "  for j in range(3, 5): #[3, 4]\n",
        "    print(i*j)"
      ],
      "metadata": {
        "colab": {
          "base_uri": "https://localhost:8080/"
        },
        "id": "0ePkTpwMRTev",
        "outputId": "dcca0558-f948-4e01-eaa1-c028953e5c1f"
      },
      "execution_count": 47,
      "outputs": [
        {
          "output_type": "stream",
          "name": "stdout",
          "text": [
            "3\n",
            "4\n",
            "6\n",
            "8\n"
          ]
        }
      ]
    },
    {
      "cell_type": "code",
      "source": [
        "#for 중첩과 if문 사용\n",
        "\n",
        "for i in range(1, 3):\n",
        "  for j in range(3, 5):\n",
        "    if j>=4:\n",
        "      print(i*j)"
      ],
      "metadata": {
        "colab": {
          "base_uri": "https://localhost:8080/"
        },
        "id": "6bSUstMZRk9i",
        "outputId": "4f25f908-da9e-4447-ec0c-d2b47b490f6b"
      },
      "execution_count": 49,
      "outputs": [
        {
          "output_type": "stream",
          "name": "stdout",
          "text": [
            "4\n",
            "8\n"
          ]
        }
      ]
    },
    {
      "cell_type": "code",
      "source": [
        "#list comprehension\n",
        "#for, if가 list 안으로 들어와 있다\n",
        "\n",
        "a=[1, 2, 3, 4]\n",
        "b=[i for i in a if i>=2] #조건문 만족시 해당 i를 b에 넣어 조건을 만족하는 list를 만들어라\n",
        "print(b)"
      ],
      "metadata": {
        "colab": {
          "base_uri": "https://localhost:8080/"
        },
        "id": "zLMg8pbVRy2G",
        "outputId": "b3befad7-7735-4c8d-fbee-0bb12ee88e4b"
      },
      "execution_count": 53,
      "outputs": [
        {
          "output_type": "stream",
          "name": "stdout",
          "text": [
            "[2, 3, 4]\n"
          ]
        }
      ]
    },
    {
      "cell_type": "code",
      "source": [
        "a=['red', 'green', 'blue', 'purple']\n",
        "b=[i for i in a if len(i)>=4]\n",
        "print(b)"
      ],
      "metadata": {
        "colab": {
          "base_uri": "https://localhost:8080/"
        },
        "id": "yFhsHalJSOeJ",
        "outputId": "46854355-7a3e-4610-ca6d-83f7231224be"
      },
      "execution_count": 54,
      "outputs": [
        {
          "output_type": "stream",
          "name": "stdout",
          "text": [
            "['green', 'blue', 'purple']\n"
          ]
        }
      ]
    },
    {
      "cell_type": "code",
      "source": [
        "#dict comprehension\n",
        "#dict 안에 for가 있다\n",
        "\n",
        "a=['red', 'green', 'blue', 'purple']\n",
        "b=[1, 2, 3, 4]\n",
        "c={a[i]:b[i] for i in range(4)}\n",
        "print(c)"
      ],
      "metadata": {
        "colab": {
          "base_uri": "https://localhost:8080/"
        },
        "id": "yivcgtpWSa4d",
        "outputId": "48d2feef-ca24-47cd-e818-82dbf1322c07"
      },
      "execution_count": 56,
      "outputs": [
        {
          "output_type": "stream",
          "name": "stdout",
          "text": [
            "{'red': 1, 'green': 2, 'blue': 3, 'purple': 4}\n"
          ]
        }
      ]
    },
    {
      "cell_type": "markdown",
      "source": [
        "#3월 16일\n",
        "#import.ipynb"
      ],
      "metadata": {
        "id": "aknq_4GNS4II"
      }
    },
    {
      "cell_type": "code",
      "source": [
        "import numpy #numpy package가 통으로 올라와 있다"
      ],
      "metadata": {
        "id": "TBawU5l1S8kf"
      },
      "execution_count": 60,
      "outputs": []
    },
    {
      "cell_type": "code",
      "source": [
        "numpy.random.randn(5)\n",
        " #numpy안의 random이라는 디렉토리 안에 randn()이라는 함수를 쓰겠다"
      ],
      "metadata": {
        "colab": {
          "base_uri": "https://localhost:8080/"
        },
        "id": "a7dkfgUvU1TW",
        "outputId": "20ed611e-531a-47c0-d7c4-897e1f108fdd"
      },
      "execution_count": 62,
      "outputs": [
        {
          "output_type": "execute_result",
          "data": {
            "text/plain": [
              "array([ 0.18685897,  1.52198502, -0.0192099 ,  0.07870986, -1.01527715])"
            ]
          },
          "metadata": {},
          "execution_count": 62
        }
      ]
    },
    {
      "cell_type": "code",
      "source": [
        "import numpy as np #numpy를 np로 줄일 수 있다\n",
        "n=np.random.randn(100) #변수 n에 랜덤 숫자 100개 저장됨"
      ],
      "metadata": {
        "id": "Ex0RUicnVfvc"
      },
      "execution_count": 64,
      "outputs": []
    },
    {
      "cell_type": "code",
      "source": [
        "import matplotlib\n",
        "matplotlib.pyplot.hist(n)\n",
        "#히스토그램\n",
        "#frequency가 그려진다. 세밀한 정도도 hist()에서 옵션을 지정해줄 수도 있음"
      ],
      "metadata": {
        "colab": {
          "base_uri": "https://localhost:8080/",
          "height": 354
        },
        "id": "PYtusH-JVv0W",
        "outputId": "4e51e061-d9cd-49da-d6c1-6357385091c0"
      },
      "execution_count": 66,
      "outputs": [
        {
          "output_type": "execute_result",
          "data": {
            "text/plain": [
              "(array([ 3.,  2.,  2.,  9., 18., 27., 21.,  8.,  9.,  1.]),\n",
              " array([-3.15634165, -2.57802768, -1.99971371, -1.42139975, -0.84308578,\n",
              "        -0.26477181,  0.31354216,  0.89185613,  1.47017009,  2.04848406,\n",
              "         2.62679803]),\n",
              " <a list of 10 Patch objects>)"
            ]
          },
          "metadata": {},
          "execution_count": 66
        },
        {
          "output_type": "display_data",
          "data": {
            "text/plain": [
              "<Figure size 432x288 with 1 Axes>"
            ],
            "image/png": "[encoded data removed]"
          },
          "metadata": {
            "needs_background": "light"
          }
        }
      ]
    },
    {
      "cell_type": "code",
      "source": [
        "import matplotlib.pyplot #디렉토리까지 import할 수 있다"
      ],
      "metadata": {
        "id": "eTpSsKEHWPaN"
      },
      "execution_count": null,
      "outputs": []
    },
    {
      "cell_type": "code",
      "source": [
        "import matplotlib.pyplot as plt #줄여쓸 수 있다\n",
        "plt.hist(n)"
      ],
      "metadata": {
        "colab": {
          "base_uri": "https://localhost:8080/",
          "height": 354
        },
        "id": "ZGh00roQWXlX",
        "outputId": "32d22e5d-72d0-4d0a-b3df-fd9ce7ddf7a0"
      },
      "execution_count": 67,
      "outputs": [
        {
          "output_type": "execute_result",
          "data": {
            "text/plain": [
              "(array([ 3.,  2.,  2.,  9., 18., 27., 21.,  8.,  9.,  1.]),\n",
              " array([-3.15634165, -2.57802768, -1.99971371, -1.42139975, -0.84308578,\n",
              "        -0.26477181,  0.31354216,  0.89185613,  1.47017009,  2.04848406,\n",
              "         2.62679803]),\n",
              " <a list of 10 Patch objects>)"
            ]
          },
          "metadata": {},
          "execution_count": 67
        },
        {
          "output_type": "display_data",
          "data": {
            "text/plain": [
              "<Figure size 432x288 with 1 Axes>"
            ],
            "image/png": "[encoded data removed]"
          },
          "metadata": {
            "needs_background": "light"
          }
        }
      ]
    },
    {
      "cell_type": "code",
      "source": [
        "from matplotlib import pyplot #하위 디렉토리만 import할 수도 있음\n",
        "#from import를 쓰면 import as 처럼 축약 효과가 있다\n",
        "pyplot.hist(n)"
      ],
      "metadata": {
        "colab": {
          "base_uri": "https://localhost:8080/",
          "height": 354
        },
        "id": "YJF7G_oRWixw",
        "outputId": "27844e7b-de18-49ff-ee7e-4e32fc690e96"
      },
      "execution_count": 68,
      "outputs": [
        {
          "output_type": "execute_result",
          "data": {
            "text/plain": [
              "(array([ 3.,  2.,  2.,  9., 18., 27., 21.,  8.,  9.,  1.]),\n",
              " array([-3.15634165, -2.57802768, -1.99971371, -1.42139975, -0.84308578,\n",
              "        -0.26477181,  0.31354216,  0.89185613,  1.47017009,  2.04848406,\n",
              "         2.62679803]),\n",
              " <a list of 10 Patch objects>)"
            ]
          },
          "metadata": {},
          "execution_count": 68
        },
        {
          "output_type": "display_data",
          "data": {
            "text/plain": [
              "<Figure size 432x288 with 1 Axes>"
            ],
            "image/png": "[encoded data removed]"
          },
          "metadata": {
            "needs_background": "light"
          }
        }
      ]
    },
    {
      "cell_type": "code",
      "source": [
        "from matplotlib.pyplot import hist\n",
        "hist(n)"
      ],
      "metadata": {
        "colab": {
          "base_uri": "https://localhost:8080/",
          "height": 354
        },
        "id": "mIwGFv2fXLdX",
        "outputId": "dfe5a57d-6048-4b45-878b-5aca66bef818"
      },
      "execution_count": 69,
      "outputs": [
        {
          "output_type": "execute_result",
          "data": {
            "text/plain": [
              "(array([ 3.,  2.,  2.,  9., 18., 27., 21.,  8.,  9.,  1.]),\n",
              " array([-3.15634165, -2.57802768, -1.99971371, -1.42139975, -0.84308578,\n",
              "        -0.26477181,  0.31354216,  0.89185613,  1.47017009,  2.04848406,\n",
              "         2.62679803]),\n",
              " <a list of 10 Patch objects>)"
            ]
          },
          "metadata": {},
          "execution_count": 69
        },
        {
          "output_type": "display_data",
          "data": {
            "text/plain": [
              "<Figure size 432x288 with 1 Axes>"
            ],
            "image/png": "[encoded data removed]"
          },
          "metadata": {
            "needs_background": "light"
          }
        }
      ]
    },
    {
      "cell_type": "markdown",
      "source": [
        "#numpy.matplotlib.ipynb"
      ],
      "metadata": {
        "id": "G9VCd5CiXxML"
      }
    },
    {
      "cell_type": "code",
      "source": [
        "#Create nd array(=matrices, 행렬)(n dimensional array)"
      ],
      "metadata": {
        "id": "4-bThk_mcxMw"
      },
      "execution_count": null,
      "outputs": []
    },
    {
      "cell_type": "code",
      "source": [
        "#list는 연산이 안되기 때문에 list를 array로 바꿔줘야함\n",
        "\n",
        "import numpy as np\n",
        "x=np.array([1, 2, 3])\n",
        "print(x)\n",
        "print(type(x))\n",
        "print(x.shape) #3개짜리 1차원 array"
      ],
      "metadata": {
        "colab": {
          "base_uri": "https://localhost:8080/"
        },
        "id": "0sDTx5nXXMwr",
        "outputId": "d188e2fa-aa28-48a0-808d-e21f4b5131e4"
      },
      "execution_count": 70,
      "outputs": [
        {
          "output_type": "stream",
          "name": "stdout",
          "text": [
            "[1 2 3]\n",
            "<class 'numpy.ndarray'>\n",
            "(3,)\n"
          ]
        }
      ]
    },
    {
      "cell_type": "code",
      "source": [
        "x=np.arange(0, 10, 2) #0에서 시작, 2는 increment, 10은 포함하지 않음\n",
        "print(x)\n",
        "print(type(x))\n",
        "print(x.shape)"
      ],
      "metadata": {
        "colab": {
          "base_uri": "https://localhost:8080/"
        },
        "id": "hgO9iMo7YYyB",
        "outputId": "c43fe221-f196-4c6b-b2ca-5a1f8754fcb0"
      },
      "execution_count": 71,
      "outputs": [
        {
          "output_type": "stream",
          "name": "stdout",
          "text": [
            "[0 2 4 6 8]\n",
            "<class 'numpy.ndarray'>\n",
            "(5,)\n"
          ]
        }
      ]
    },
    {
      "cell_type": "code",
      "source": [
        "x=np.linspace(0, 10, 6) #linear space #0부터, 10까지(포함), 등분을 해서, 총 6개의 숫자를 만들어라\n",
        "print(x)\n",
        "print(type(x))\n",
        "print(x.shape)"
      ],
      "metadata": {
        "colab": {
          "base_uri": "https://localhost:8080/"
        },
        "id": "_vx1XEbmZAGG",
        "outputId": "933b8a74-34cf-42c2-c318-cb71778417a1"
      },
      "execution_count": 73,
      "outputs": [
        {
          "output_type": "stream",
          "name": "stdout",
          "text": [
            "[ 0.  2.  4.  6.  8. 10.]\n",
            "<class 'numpy.ndarray'>\n",
            "(6,)\n"
          ]
        }
      ]
    },
    {
      "cell_type": "code",
      "source": [
        "x=np.array([[1, 2, 3], [4, 5, 6]])\n",
        "print(x)\n",
        "print(type(x))\n",
        "print(x.shape) # 2 row, 3 column"
      ],
      "metadata": {
        "colab": {
          "base_uri": "https://localhost:8080/"
        },
        "id": "dlkCVoF8Z5Ea",
        "outputId": "ad2822f6-be3a-4740-befb-a3e0ce758953"
      },
      "execution_count": 75,
      "outputs": [
        {
          "output_type": "stream",
          "name": "stdout",
          "text": [
            "[[1 2 3]\n",
            " [4 5 6]]\n",
            "<class 'numpy.ndarray'>\n",
            "(2, 3)\n"
          ]
        }
      ]
    },
    {
      "cell_type": "code",
      "source": [
        "x=np.array([[[1, 2, 3], [4, 5, 6]], [[7, 8, 9], [10, 11, 12]]])\n",
        "print(x)\n",
        "print(type(x)) \n",
        "print(x.shape) #대괄호 중첨 개수->dimension의 개수\n",
        "#3: 1, 2, 3/ #2: 1, 2, 3, 4, 5, 6/ #첫번째 2: 가장 큰 것"
      ],
      "metadata": {
        "colab": {
          "base_uri": "https://localhost:8080/"
        },
        "id": "s3HbswfhabGh",
        "outputId": "ea1a4d73-1676-4a5c-aad4-2adf518d14cd"
      },
      "execution_count": 76,
      "outputs": [
        {
          "output_type": "stream",
          "name": "stdout",
          "text": [
            "[[[ 1  2  3]\n",
            "  [ 4  5  6]]\n",
            "\n",
            " [[ 7  8  9]\n",
            "  [10 11 12]]]\n",
            "<class 'numpy.ndarray'>\n",
            "(2, 2, 3)\n"
          ]
        }
      ]
    },
    {
      "cell_type": "code",
      "source": [
        "x=np.ones([2, 2, 3])\n",
        "print(x)\n",
        "print(type(x))\n",
        "print(x.shape)\n",
        "\n",
        "print()\n",
        "\n",
        "x=np.zeros([2, 2, 3])\n",
        "print(x)\n",
        "print(type(x))\n",
        "print(x.shape)"
      ],
      "metadata": {
        "colab": {
          "base_uri": "https://localhost:8080/"
        },
        "id": "h_7xvbunbFDY",
        "outputId": "cfa2638a-2d4b-49e0-c54a-2736054ac196"
      },
      "execution_count": 78,
      "outputs": [
        {
          "output_type": "stream",
          "name": "stdout",
          "text": [
            "[[[1. 1. 1.]\n",
            "  [1. 1. 1.]]\n",
            "\n",
            " [[1. 1. 1.]\n",
            "  [1. 1. 1.]]]\n",
            "<class 'numpy.ndarray'>\n",
            "(2, 2, 3)\n",
            "\n",
            "[[[0. 0. 0.]\n",
            "  [0. 0. 0.]]\n",
            "\n",
            " [[0. 0. 0.]\n",
            "  [0. 0. 0.]]]\n",
            "<class 'numpy.ndarray'>\n",
            "(2, 2, 3)\n"
          ]
        }
      ]
    },
    {
      "cell_type": "code",
      "source": [
        "#Create random numbers"
      ],
      "metadata": {
        "id": "O05QgXwMcmE0"
      },
      "execution_count": null,
      "outputs": []
    },
    {
      "cell_type": "code",
      "source": [
        "np.random.normal(0, 1, [2, 3, 4]) #행동 값, main 값, array의 shape\n",
        "#normal distribution의 nd array를 만들어주는 함수이다"
      ],
      "metadata": {
        "colab": {
          "base_uri": "https://localhost:8080/"
        },
        "id": "7tN7WtWwbTG2",
        "outputId": "e8384094-741f-4a94-f6c2-98720006139e"
      },
      "execution_count": 79,
      "outputs": [
        {
          "output_type": "execute_result",
          "data": {
            "text/plain": [
              "array([[[ 0.21734562,  1.35855025,  0.6453806 ,  1.18303077],\n",
              "        [-1.37961516,  1.27443805, -0.09369305,  0.17263779],\n",
              "        [-0.20456113,  0.88689558, -0.91311469, -0.40503249]],\n",
              "\n",
              "       [[ 0.65135177,  1.00807234, -0.0174349 , -2.39113008],\n",
              "        [-1.18100462, -0.44661746, -0.83993097,  0.04169101],\n",
              "        [-0.01938368,  1.04312268,  1.02204889, -1.45359762]]])"
            ]
          },
          "metadata": {},
          "execution_count": 79
        }
      ]
    },
    {
      "cell_type": "code",
      "source": [
        "import matplotlib.pyplot as plt"
      ],
      "metadata": {
        "id": "hnCiA1GIbnzJ"
      },
      "execution_count": null,
      "outputs": []
    },
    {
      "cell_type": "code",
      "source": [
        "x=np.random.normal(0, 1, 100) #긴 한 줄에 숫자 100개\n",
        "print(x)\n",
        "plt.hist(x, bins=10) #통을 몇개를 할 것인가?"
      ],
      "metadata": {
        "colab": {
          "base_uri": "https://localhost:8080/",
          "height": 658
        },
        "id": "BRNLFYrNb6iH",
        "outputId": "9a5401a1-20a4-43ad-f0d3-194a7dd25505"
      },
      "execution_count": 80,
      "outputs": [
        {
          "output_type": "stream",
          "name": "stdout",
          "text": [
            "[ 0.93778979  2.0055529   0.43873473 -0.81309336  0.70007523  2.17447417\n",
            " -1.46490175 -0.04233418  0.78990723  1.13545323 -0.12176869 -0.62283907\n",
            "  0.22447722 -1.07313573 -1.26831275 -1.57467756 -1.80590736 -0.2094783\n",
            " -0.31292911 -2.08357668 -0.41730419  1.58912602  1.08143912  0.15821616\n",
            "  0.11705475  0.73031545  0.14867169 -1.54098102  1.12130229 -1.58297422\n",
            " -1.41427533  0.76935493  0.78935354 -0.85224756 -1.61395158 -0.73079074\n",
            " -0.06506276 -0.59417193  1.70389106  0.6742808   0.54619054 -1.21210688\n",
            "  3.21732167 -1.67239029  0.03459616  0.36716541  1.60971939  1.75798997\n",
            " -0.07459214 -1.2771505  -0.51953195 -1.09104227 -0.24857784  0.40281179\n",
            "  0.34218634  2.17761311  1.29429783  0.59768567 -0.22663627 -0.97339883\n",
            " -0.36080793 -0.00357084 -0.37572613 -0.94548959 -0.04658431 -0.06465781\n",
            "  1.07087548  1.02150922 -0.96166763 -0.5240527  -1.34876814  0.30142322\n",
            " -1.01272295  0.32591082 -0.01380655  0.15378737  1.51900002 -0.26231079\n",
            "  0.15438192  0.09775697 -1.18540816 -0.67765176  1.6337647   1.57276304\n",
            " -0.10758116  0.06731271 -1.06647807  0.36157596  0.50176743 -0.9830972\n",
            " -0.53182028 -0.44419469  0.78016801  0.04464622  1.89961787 -0.79992543\n",
            " -0.55186665 -0.59794846  1.54946371  1.17973556]\n"
          ]
        },
        {
          "output_type": "execute_result",
          "data": {
            "text/plain": [
              "(array([ 6., 11., 17., 19., 18., 12.,  9.,  5.,  2.,  1.]),\n",
              " array([-2.08357668, -1.55348685, -1.02339701, -0.49330718,  0.03678266,\n",
              "         0.5668725 ,  1.09696233,  1.62705217,  2.157142  ,  2.68723184,\n",
              "         3.21732167]),\n",
              " <a list of 10 Patch objects>)"
            ]
          },
          "metadata": {},
          "execution_count": 80
        },
        {
          "output_type": "display_data",
          "data": {
            "text/plain": [
              "<Figure size 432x288 with 1 Axes>"
            ],
            "image/png": "[encoded data removed]"
          },
          "metadata": {
            "needs_background": "light"
          }
        }
      ]
    },
    {
      "cell_type": "code",
      "source": [
        "#Generate a sine curve"
      ],
      "metadata": {
        "id": "OuHZczGicXFt"
      },
      "execution_count": null,
      "outputs": []
    },
    {
      "cell_type": "code",
      "source": [
        "plt.figure() #그래프 틀을 잡아주는 함수\n",
        "\n",
        "theta1=np.linspace(0, 2*np.pi, 100) #np 안에 pi라는 값이 들어있음 #라디안 0에서 360도\n",
        "#0부터 2pi까지 100개의 숫자를 만들어라\n",
        "s1=np.sin(theta1)\n",
        "theta2=np.linspace(0, 2*np.pi, 100)+np.pi/2 #90도 만큼을 다 더함 #라디안 90도에서 450도\n",
        "s2=np.sin(theta2)\n",
        "\n",
        "plt.subplot(2, 1, 1)\n",
        "#(입력): row가 2개 있도록, 세로는 1칸, 그 중에서 첫번째 거에 그림을 그려라\n",
        "plt.plot(theta1, s1, '.') #theta1가 x 값, s1이 y값, 점(.)으로 그려라\n",
        "plt.subplot(2, 1, 2)\n",
        "plt.plot(theta2, s2, '.')"
      ],
      "metadata": {
        "colab": {
          "base_uri": "https://localhost:8080/",
          "height": 283
        },
        "id": "JzrtHSJ2cj49",
        "outputId": "a8c84c84-eaac-4029-f101-f3d9474fea34"
      },
      "execution_count": 82,
      "outputs": [
        {
          "output_type": "execute_result",
          "data": {
            "text/plain": [
              "[<matplotlib.lines.Line2D at 0x7f6ca649cad0>]"
            ]
          },
          "metadata": {},
          "execution_count": 82
        },
        {
          "output_type": "display_data",
          "data": {
            "text/plain": [
              "<Figure size 432x288 with 2 Axes>"
            ],
            "image/png": "[encoded data removed]"
          },
          "metadata": {
            "needs_background": "light"
          }
        }
      ]
    },
    {
      "cell_type": "code",
      "source": [
        "#correlation-coefficient\n",
        "#correlation은 r로 표현. 범위는 -1~+1/ +면 정비례, -면 반비례\n",
        "np.corrcoef(s1, s2) #s1, s2의 correlation을 그려본다\n",
        "#가장 처음의 것과 마지막 것은 1이 나오기 때문에 보지 않고, 두번째, 세번째 것만 보면 된다\n",
        "#e-17: 10의 -17승/ 2.419*10^-17/ 거의 0"
      ],
      "metadata": {
        "colab": {
          "base_uri": "https://localhost:8080/"
        },
        "id": "IKFaplOKfZ0U",
        "outputId": "4f06345a-9ce7-4a62-fd56-1443bea64fe0"
      },
      "execution_count": 84,
      "outputs": [
        {
          "output_type": "execute_result",
          "data": {
            "text/plain": [
              "array([[1.00000000e+00, 2.41915449e-17],\n",
              "       [2.41915449e-17, 1.00000000e+00]])"
            ]
          },
          "metadata": {},
          "execution_count": 84
        }
      ]
    }
  ]
}